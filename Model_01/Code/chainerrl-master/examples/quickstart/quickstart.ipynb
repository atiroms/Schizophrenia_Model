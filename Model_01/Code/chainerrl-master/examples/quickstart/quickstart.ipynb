{
 "cells": [
  {
   "cell_type": "markdown",
   "metadata": {},
   "source": [
    "# ChainerRL Quickstart Guide\n",
    "\n",
    "This is a quickstart guide for users who just want to try ChainerRL for the first time.\n",
    "\n",
    "If you have not yet installed ChainerRL, run the command below to install it:\n",
    "```\n",
    "pip install chainerrl\n",
    "```\n",
    "\n",
    "If you have already installed ChainerRL, let's begin!\n",
    "\n",
    "First, you need to import necessary modules. The module name of ChainerRL is `chainerrl`. Let's import `gym` and `numpy` as well since they are used later."
   ]
  },
  {
   "cell_type": "code",
   "execution_count": 1,
   "metadata": {
    "collapsed": true
   },
   "outputs": [],
   "source": [
    "import chainer\n",
    "import chainer.functions as F\n",
    "import chainer.links as L\n",
    "import chainerrl\n",
    "import gym\n",
    "import numpy as np"
   ]
  },
  {
   "cell_type": "markdown",
   "metadata": {},
   "source": [
    "ChainerRL can be used for any problems if they are modeled as \"environments\". [OpenAI Gym](https://github.com/openai/gym) provides various kinds of benchmark environments and defines the common interface among them. ChainerRL uses a subset of the interface. Specifically, an environment must define its observation space and action space and have at least two methods: `reset` and `step`.\n",
    "\n",
    "- `env.reset` will reset the environment to the initial state and return the initial observation.\n",
    "- `env.step` will execute a given action, move to the next state and return four values:\n",
    "  - a next observation\n",
    "  - a scalar reward\n",
    "  - a boolean value indicating whether the current state is terminal or not\n",
    "  - additional information\n",
    "- `env.render` will render the current state.\n",
    "\n",
    "Let's try 'CartPole-v0', which is a classic control problem. You can see below that its observation space consists of four real numbers while its action space consists of two discrete actions."
   ]
  },
  {
   "cell_type": "code",
   "execution_count": 2,
   "metadata": {
    "collapsed": false
   },
   "outputs": [
    {
     "name": "stderr",
     "output_type": "stream",
     "text": [
      "[2017-02-14 00:57:21,346] Making new env: CartPole-v0\n"
     ]
    },
    {
     "name": "stdout",
     "output_type": "stream",
     "text": [
      "observation space: Box(4,)\n",
      "action space: Discrete(2)\n",
      "initial observation: [-0.04900175  0.04532919 -0.03920178 -0.03669912]\n",
      "next observation: [-0.04809517 -0.14920932 -0.03993577  0.24336207]\n",
      "reward: 1.0\n",
      "done: False\n",
      "info: {}\n"
     ]
    }
   ],
   "source": [
    "env = gym.make('CartPole-v0')\n",
    "print('observation space:', env.observation_space)\n",
    "print('action space:', env.action_space)\n",
    "\n",
    "obs = env.reset()\n",
    "env.render()\n",
    "print('initial observation:', obs)\n",
    "\n",
    "action = env.action_space.sample()\n",
    "obs, r, done, info = env.step(action)\n",
    "print('next observation:', obs)\n",
    "print('reward:', r)\n",
    "print('done:', done)\n",
    "print('info:', info)"
   ]
  },
  {
   "cell_type": "markdown",
   "metadata": {},
   "source": [
    "Now you have defined your environment. Next, you need to define an agent, which will learn through interactions with the environment.\n",
    "\n",
    "ChainerRL provides various agents, each of which implements a deep reinforcement learning algorithm.\n",
    "\n",
    "To use [DQN (Deep Q-Network)](http://dx.doi.org/10.1038/nature14236), you need to define a Q-function that receives an observation and returns an expected future return for each action the agent can take. In ChainerRL, you can define your Q-function as `chainer.Link` as below. Note that the outputs are wrapped by `chainerrl.action_value.DiscreteActionValue`, which implements `chainerrl.action_value.ActionValue`. By wrapping the outputs of Q-functions, ChainerRL can treat discrete-action Q-functions like this and [NAFs (Normalized Advantage Functions)](https://arxiv.org/abs/1603.00748) in the same way."
   ]
  },
  {
   "cell_type": "code",
   "execution_count": 3,
   "metadata": {
    "collapsed": false
   },
   "outputs": [],
   "source": [
    "class QFunction(chainer.Chain):\n",
    "\n",
    "    def __init__(self, obs_size, n_actions, n_hidden_channels=50):\n",
    "        super().__init__(\n",
    "            l0=L.Linear(obs_size, n_hidden_channels),\n",
    "            l1=L.Linear(n_hidden_channels, n_hidden_channels),\n",
    "            l2=L.Linear(n_hidden_channels, n_actions))\n",
    "\n",
    "    def __call__(self, x, test=False):\n",
    "        \"\"\"\n",
    "        Args:\n",
    "            x (ndarray or chainer.Variable): An observation\n",
    "            test (bool): a flag indicating whether it is in test mode\n",
    "        \"\"\"\n",
    "        h = F.tanh(self.l0(x))\n",
    "        h = F.tanh(self.l1(h))\n",
    "        return chainerrl.action_value.DiscreteActionValue(self.l2(h))\n",
    "\n",
    "obs_size = env.observation_space.shape[0]\n",
    "n_actions = env.action_space.n\n",
    "q_func = QFunction(obs_size, n_actions)"
   ]
  },
  {
   "cell_type": "markdown",
   "metadata": {},
   "source": [
    "If you want to use CUDA for computation, as usual as in Chainer, call `to_gpu`."
   ]
  },
  {
   "cell_type": "code",
   "execution_count": 4,
   "metadata": {
    "collapsed": true
   },
   "outputs": [],
   "source": [
    "# Uncomment to use CUDA\n",
    "# q_func.to_gpu(0)"
   ]
  },
  {
   "cell_type": "markdown",
   "metadata": {},
   "source": [
    "You can also use ChainerRL's predefined Q-functions."
   ]
  },
  {
   "cell_type": "code",
   "execution_count": 5,
   "metadata": {
    "collapsed": false
   },
   "outputs": [],
   "source": [
    "_q_func = chainerrl.q_functions.FCStateQFunctionWithDiscreteAction(\n",
    "    obs_size, n_actions,\n",
    "    n_hidden_layers=2, n_hidden_channels=50)"
   ]
  },
  {
   "cell_type": "markdown",
   "metadata": {},
   "source": [
    "As in Chainer, `chainer.Optimizer` is used to update models."
   ]
  },
  {
   "cell_type": "code",
   "execution_count": 6,
   "metadata": {
    "collapsed": false
   },
   "outputs": [],
   "source": [
    "# Use Adam to optimize q_func. eps=1e-2 is for stability.\n",
    "optimizer = chainer.optimizers.Adam(eps=1e-2)\n",
    "optimizer.setup(q_func)"
   ]
  },
  {
   "cell_type": "markdown",
   "metadata": {},
   "source": [
    "A Q-function and its optimizer are used by a DQN agent. To create a DQN agent, you need to specify a bit more parameters and configurations."
   ]
  },
  {
   "cell_type": "code",
   "execution_count": 7,
   "metadata": {
    "collapsed": false
   },
   "outputs": [],
   "source": [
    "# Set the discount factor that discounts future rewards.\n",
    "gamma = 0.95\n",
    "\n",
    "# Use epsilon-greedy for exploration\n",
    "explorer = chainerrl.explorers.ConstantEpsilonGreedy(\n",
    "    epsilon=0.3, random_action_func=env.action_space.sample)\n",
    "\n",
    "# DQN uses Experience Replay.\n",
    "# Specify a replay buffer and its capacity.\n",
    "replay_buffer = chainerrl.replay_buffer.ReplayBuffer(capacity=10 ** 6)\n",
    "\n",
    "# Since observations from CartPole-v0 is numpy.float64 while\n",
    "# Chainer only accepts numpy.float32 by default, specify\n",
    "# a converter as a feature extractor function phi.\n",
    "phi = lambda x: x.astype(np.float32, copy=False)\n",
    "\n",
    "# Now create an agent that will interact with the environment.\n",
    "agent = chainerrl.agents.DoubleDQN(\n",
    "    q_func, optimizer, replay_buffer, gamma, explorer,\n",
    "    replay_start_size=500, update_frequency=1,\n",
    "    target_update_frequency=100, phi=phi)"
   ]
  },
  {
   "cell_type": "markdown",
   "metadata": {},
   "source": [
    "Now you have an agent and an environment. It's time to start reinforcement learning!\n",
    "\n",
    "In training, use `agent.act_and_train` to select exploratory actions. `agent.stop_episode_and_train` must be called after finishing an episode. You can get training statistics of the agent via `agent.get_statistics`."
   ]
  },
  {
   "cell_type": "code",
   "execution_count": 8,
   "metadata": {
    "collapsed": false,
    "scrolled": true
   },
   "outputs": [
    {
     "name": "stdout",
     "output_type": "stream",
     "text": [
      "episode: 10 R: 10.0 statistics: [('average_q', 0.013069091719009602), ('average_loss', 0)]\n",
      "episode: 20 R: 9.0 statistics: [('average_q', 0.032478448271347625), ('average_loss', 0)]\n",
      "episode: 30 R: 10.0 statistics: [('average_q', 0.03955525727157171), ('average_loss', 0)]\n",
      "episode: 40 R: 21.0 statistics: [('average_q', 0.059542557239063466), ('average_loss', 0)]\n",
      "episode: 50 R: 11.0 statistics: [('average_q', 0.1042062685302155), ('average_loss', 0.12923698160431754)]\n",
      "episode: 60 R: 9.0 statistics: [('average_q', 0.2552122163070282), ('average_loss', 0.23279121088595509)]\n",
      "episode: 70 R: 13.0 statistics: [('average_q', 0.4681134587104666), ('average_loss', 0.19497255266275923)]\n",
      "episode: 80 R: 14.0 statistics: [('average_q', 0.7860942900891349), ('average_loss', 0.16065715492973479)]\n",
      "episode: 90 R: 39.0 statistics: [('average_q', 1.304713494819917), ('average_loss', 0.17398052643661346)]\n",
      "episode: 100 R: 153.0 statistics: [('average_q', 5.50309158982877), ('average_loss', 0.31076680346112384)]\n",
      "episode: 110 R: 185.0 statistics: [('average_q', 11.173549252543188), ('average_loss', 0.31792906798165155)]\n",
      "episode: 120 R: 59.0 statistics: [('average_q', 14.54473278855712), ('average_loss', 0.2771320091793953)]\n",
      "episode: 130 R: 69.0 statistics: [('average_q', 17.593164502347275), ('average_loss', 0.2432822493138711)]\n",
      "episode: 140 R: 200.0 statistics: [('average_q', 19.218152638872017), ('average_loss', 0.16925813021315042)]\n",
      "episode: 150 R: 181.0 statistics: [('average_q', 19.85662406627514), ('average_loss', 0.19841328551103604)]\n",
      "episode: 160 R: 188.0 statistics: [('average_q', 20.095733204491875), ('average_loss', 0.1492668754021415)]\n",
      "episode: 170 R: 200.0 statistics: [('average_q', 20.06216519802908), ('average_loss', 0.1520745516767113)]\n",
      "episode: 180 R: 200.0 statistics: [('average_q', 20.179143097015285), ('average_loss', 0.11150998698001757)]\n",
      "episode: 190 R: 38.0 statistics: [('average_q', 20.250989436339058), ('average_loss', 0.10405688419334286)]\n",
      "episode: 200 R: 132.0 statistics: [('average_q', 20.29290981982273), ('average_loss', 0.11188786259550937)]\n",
      "Finished.\n"
     ]
    }
   ],
   "source": [
    "n_episodes = 200\n",
    "max_episode_len = 200\n",
    "for i in range(1, n_episodes + 1):\n",
    "    obs = env.reset()\n",
    "    reward = 0\n",
    "    done = False\n",
    "    R = 0  # return (sum of rewards)\n",
    "    t = 0  # time step\n",
    "    while not done and t < max_episode_len:\n",
    "        # Uncomment to watch the behaviour\n",
    "        # env.render()\n",
    "        action = agent.act_and_train(obs, reward)\n",
    "        obs, reward, done, _ = env.step(action)\n",
    "        R += reward\n",
    "        t += 1\n",
    "    if i % 10 == 0:\n",
    "        print('episode:', i,\n",
    "              'R:', R,\n",
    "              'statistics:', agent.get_statistics())\n",
    "    agent.stop_episode_and_train(obs, reward, done)\n",
    "print('Finished.')"
   ]
  },
  {
   "cell_type": "markdown",
   "metadata": {
    "collapsed": false
   },
   "source": [
    "Now you finished training the agent. How good is the agent now? You can test it by using `agent.act` and `agent.stop_episode` instead. Exploration such as epsilon-greedy is not used anymore."
   ]
  },
  {
   "cell_type": "code",
   "execution_count": 9,
   "metadata": {
    "collapsed": false
   },
   "outputs": [
    {
     "name": "stdout",
     "output_type": "stream",
     "text": [
      "test episode: 0 R: 200.0\n",
      "test episode: 1 R: 200.0\n",
      "test episode: 2 R: 200.0\n",
      "test episode: 3 R: 200.0\n",
      "test episode: 4 R: 200.0\n",
      "test episode: 5 R: 200.0\n",
      "test episode: 6 R: 200.0\n",
      "test episode: 7 R: 200.0\n",
      "test episode: 8 R: 200.0\n",
      "test episode: 9 R: 200.0\n"
     ]
    }
   ],
   "source": [
    "for i in range(10):\n",
    "    obs = env.reset()\n",
    "    done = False\n",
    "    R = 0\n",
    "    t = 0\n",
    "    while not done and t < 200:\n",
    "        env.render()\n",
    "        action = agent.act(obs)\n",
    "        obs, r, done, _ = env.step(action)\n",
    "        R += r\n",
    "        t += 1\n",
    "    print('test episode:', i, 'R:', R)\n",
    "    agent.stop_episode()"
   ]
  },
  {
   "cell_type": "markdown",
   "metadata": {
    "collapsed": false
   },
   "source": [
    "If test scores are good enough, the only remaining task is to save the agent so that you can reuse it. What you need to do is to simply call `agent.save` to save the agent, then `agent.load` to load the saved agent."
   ]
  },
  {
   "cell_type": "code",
   "execution_count": 10,
   "metadata": {
    "collapsed": false
   },
   "outputs": [],
   "source": [
    "# Save an agent to the 'agent' directory\n",
    "agent.save('agent')\n",
    "\n",
    "# Uncomment to load an agent from the 'agent' directory\n",
    "# agent.load('agent')"
   ]
  },
  {
   "cell_type": "markdown",
   "metadata": {
    "collapsed": false
   },
   "source": [
    "RL completed!\n",
    "\n",
    "But writing code like this every time you use RL might be boring. So, ChainerRL has utility functions that do these things."
   ]
  },
  {
   "cell_type": "code",
   "execution_count": 11,
   "metadata": {
    "collapsed": false
   },
   "outputs": [
    {
     "name": "stdout",
     "output_type": "stream",
     "text": [
      "outdir:result step:65 episode:0 R:65.0\n",
      "statistics:[('average_q', 20.23078677636419), ('average_loss', 0.13231351443275094)]\n",
      "outdir:result step:265 episode:1 R:200.0\n",
      "statistics:[('average_q', 20.232559738486195), ('average_loss', 0.1465462699582741)]\n",
      "outdir:result step:465 episode:2 R:200.0\n",
      "statistics:[('average_q', 20.240590949577328), ('average_loss', 0.11008327774874926)]\n",
      "outdir:result step:665 episode:3 R:200.0\n",
      "statistics:[('average_q', 20.244510483846007), ('average_loss', 0.09010072542076136)]\n",
      "outdir:result step:865 episode:4 R:200.0\n",
      "statistics:[('average_q', 20.252823149975445), ('average_loss', 0.10120755847835318)]\n",
      "outdir:result step:905 episode:5 R:40.0\n",
      "statistics:[('average_q', 20.288842337163572), ('average_loss', 0.08612966246382447)]\n",
      "outdir:result step:969 episode:6 R:64.0\n",
      "statistics:[('average_q', 20.292066920745093), ('average_loss', 0.07914841841046122)]\n",
      "outdir:result step:1169 episode:7 R:200.0\n",
      "statistics:[('average_q', 20.301089538868883), ('average_loss', 0.08121100253015177)]\n",
      "test episode: 0 R: 200.0\n",
      "test episode: 1 R: 200.0\n",
      "test episode: 2 R: 200.0\n",
      "test episode: 3 R: 200.0\n",
      "test episode: 4 R: 200.0\n",
      "test episode: 5 R: 200.0\n",
      "test episode: 6 R: 200.0\n",
      "test episode: 7 R: 200.0\n",
      "test episode: 8 R: 200.0\n",
      "test episode: 9 R: 200.0\n",
      "The best score is updated -3.4028234663852886e+38 -> 200.0\n",
      "Saved the agent to result/1169\n",
      "outdir:result step:1369 episode:8 R:200.0\n",
      "statistics:[('average_q', 20.271021709540097), ('average_loss', 0.08949426381277785)]\n",
      "outdir:result step:1428 episode:9 R:59.0\n",
      "statistics:[('average_q', 20.306098595039046), ('average_loss', 0.0895674034543432)]\n",
      "outdir:result step:1470 episode:10 R:42.0\n",
      "statistics:[('average_q', 20.313531735741552), ('average_loss', 0.09815925108532354)]\n",
      "outdir:result step:1546 episode:11 R:76.0\n",
      "statistics:[('average_q', 20.307495445784724), ('average_loss', 0.10009688455394869)]\n",
      "outdir:result step:1619 episode:12 R:73.0\n",
      "statistics:[('average_q', 20.29011685494067), ('average_loss', 0.10356157904820179)]\n",
      "outdir:result step:1676 episode:13 R:57.0\n",
      "statistics:[('average_q', 20.284860730703098), ('average_loss', 0.09557445567642474)]\n",
      "outdir:result step:1689 episode:14 R:13.0\n",
      "statistics:[('average_q', 20.27247115948145), ('average_loss', 0.10591610744398917)]\n",
      "outdir:result step:1889 episode:15 R:200.0\n",
      "statistics:[('average_q', 20.25354876501336), ('average_loss', 0.08419436954316357)]\n",
      "outdir:result step:1974 episode:16 R:85.0\n",
      "statistics:[('average_q', 20.26103293724864), ('average_loss', 0.06991889826385908)]\n",
      "outdir:result step:2000 episode:17 R:26.0\n",
      "statistics:[('average_q', 20.257680455032826), ('average_loss', 0.060177644006026015)]\n",
      "test episode: 0 R: 200.0\n",
      "test episode: 1 R: 200.0\n",
      "test episode: 2 R: 200.0\n",
      "test episode: 3 R: 200.0\n",
      "test episode: 4 R: 200.0\n",
      "test episode: 5 R: 200.0\n",
      "test episode: 6 R: 200.0\n",
      "test episode: 7 R: 200.0\n",
      "test episode: 8 R: 200.0\n",
      "test episode: 9 R: 200.0\n",
      "Saved the agent to result/2000_finish\n"
     ]
    }
   ],
   "source": [
    "# Set up the logger to print info messages for understandability.\n",
    "import logging\n",
    "import sys\n",
    "gym.undo_logger_setup()  # Turn off gym's default logger settings\n",
    "logging.basicConfig(level=logging.INFO, stream=sys.stdout, format='')\n",
    "\n",
    "chainerrl.experiments.train_agent_with_evaluation(\n",
    "    agent, env,\n",
    "    steps=2000,           # Train the agent for 2000 steps\n",
    "    eval_n_runs=10,       # 10 episodes are sampled for each evaluation\n",
    "    max_episode_len=200,  # Maximum length of each episodes\n",
    "    eval_frequency=1000,  # Evaluate the agent after every 1000 steps\n",
    "    outdir='result')      # Save everything to 'result' directory"
   ]
  },
  {
   "cell_type": "markdown",
   "metadata": {
    "collapsed": false
   },
   "source": [
    "That's all of the ChainerRL quickstart guide. To know more about ChainerRL, please look into the `examples` directory and read and run the examples. Thank you!"
   ]
  }
 ],
 "metadata": {
  "kernelspec": {
   "display_name": "Python 3",
   "language": "python",
   "name": "python3"
  },
  "language_info": {
   "codemirror_mode": {
    "name": "ipython",
    "version": 3
   },
   "file_extension": ".py",
   "mimetype": "text/x-python",
   "name": "python",
   "nbconvert_exporter": "python",
   "pygments_lexer": "ipython3",
   "version": "3.5.1"
  }
 },
 "nbformat": 4,
 "nbformat_minor": 0
}
